{
 "cells": [
  {
   "cell_type": "code",
   "execution_count": 1,
   "id": "23f6a60e",
   "metadata": {},
   "outputs": [],
   "source": [
    "import numpy as np\n",
    "import pandas as pd\n",
    "import matplotlib.pyplot as plt\n",
    "import seaborn as sns\n",
    "import pickle as pick\n"
   ]
  },
  {
   "cell_type": "markdown",
   "id": "8f1491ec",
   "metadata": {},
   "source": [
    "### Load Data"
   ]
  },
  {
   "cell_type": "code",
   "execution_count": 2,
   "id": "e5cf30ee",
   "metadata": {},
   "outputs": [],
   "source": [
    "# importing data\n",
    "DataFrame=pd.read_csv(\"mushrooms.csv\")"
   ]
  },
  {
   "cell_type": "code",
   "execution_count": 3,
   "id": "059c1bb8",
   "metadata": {},
   "outputs": [
    {
     "data": {
      "text/html": [
       "<div>\n",
       "<style scoped>\n",
       "    .dataframe tbody tr th:only-of-type {\n",
       "        vertical-align: middle;\n",
       "    }\n",
       "\n",
       "    .dataframe tbody tr th {\n",
       "        vertical-align: top;\n",
       "    }\n",
       "\n",
       "    .dataframe thead th {\n",
       "        text-align: right;\n",
       "    }\n",
       "</style>\n",
       "<table border=\"1\" class=\"dataframe\">\n",
       "  <thead>\n",
       "    <tr style=\"text-align: right;\">\n",
       "      <th></th>\n",
       "      <th>class</th>\n",
       "      <th>cap-shape</th>\n",
       "      <th>cap-surface</th>\n",
       "      <th>cap-color</th>\n",
       "      <th>bruises</th>\n",
       "      <th>odor</th>\n",
       "      <th>gill-attachment</th>\n",
       "      <th>gill-spacing</th>\n",
       "      <th>gill-size</th>\n",
       "      <th>gill-color</th>\n",
       "      <th>...</th>\n",
       "      <th>stalk-surface-below-ring</th>\n",
       "      <th>stalk-color-above-ring</th>\n",
       "      <th>stalk-color-below-ring</th>\n",
       "      <th>veil-type</th>\n",
       "      <th>veil-color</th>\n",
       "      <th>ring-number</th>\n",
       "      <th>ring-type</th>\n",
       "      <th>spore-print-color</th>\n",
       "      <th>population</th>\n",
       "      <th>habitat</th>\n",
       "    </tr>\n",
       "  </thead>\n",
       "  <tbody>\n",
       "    <tr>\n",
       "      <th>0</th>\n",
       "      <td>p</td>\n",
       "      <td>x</td>\n",
       "      <td>s</td>\n",
       "      <td>n</td>\n",
       "      <td>t</td>\n",
       "      <td>p</td>\n",
       "      <td>f</td>\n",
       "      <td>c</td>\n",
       "      <td>n</td>\n",
       "      <td>k</td>\n",
       "      <td>...</td>\n",
       "      <td>s</td>\n",
       "      <td>w</td>\n",
       "      <td>w</td>\n",
       "      <td>p</td>\n",
       "      <td>w</td>\n",
       "      <td>o</td>\n",
       "      <td>p</td>\n",
       "      <td>k</td>\n",
       "      <td>s</td>\n",
       "      <td>u</td>\n",
       "    </tr>\n",
       "    <tr>\n",
       "      <th>1</th>\n",
       "      <td>e</td>\n",
       "      <td>x</td>\n",
       "      <td>s</td>\n",
       "      <td>y</td>\n",
       "      <td>t</td>\n",
       "      <td>a</td>\n",
       "      <td>f</td>\n",
       "      <td>c</td>\n",
       "      <td>b</td>\n",
       "      <td>k</td>\n",
       "      <td>...</td>\n",
       "      <td>s</td>\n",
       "      <td>w</td>\n",
       "      <td>w</td>\n",
       "      <td>p</td>\n",
       "      <td>w</td>\n",
       "      <td>o</td>\n",
       "      <td>p</td>\n",
       "      <td>n</td>\n",
       "      <td>n</td>\n",
       "      <td>g</td>\n",
       "    </tr>\n",
       "    <tr>\n",
       "      <th>2</th>\n",
       "      <td>e</td>\n",
       "      <td>b</td>\n",
       "      <td>s</td>\n",
       "      <td>w</td>\n",
       "      <td>t</td>\n",
       "      <td>l</td>\n",
       "      <td>f</td>\n",
       "      <td>c</td>\n",
       "      <td>b</td>\n",
       "      <td>n</td>\n",
       "      <td>...</td>\n",
       "      <td>s</td>\n",
       "      <td>w</td>\n",
       "      <td>w</td>\n",
       "      <td>p</td>\n",
       "      <td>w</td>\n",
       "      <td>o</td>\n",
       "      <td>p</td>\n",
       "      <td>n</td>\n",
       "      <td>n</td>\n",
       "      <td>m</td>\n",
       "    </tr>\n",
       "    <tr>\n",
       "      <th>3</th>\n",
       "      <td>p</td>\n",
       "      <td>x</td>\n",
       "      <td>y</td>\n",
       "      <td>w</td>\n",
       "      <td>t</td>\n",
       "      <td>p</td>\n",
       "      <td>f</td>\n",
       "      <td>c</td>\n",
       "      <td>n</td>\n",
       "      <td>n</td>\n",
       "      <td>...</td>\n",
       "      <td>s</td>\n",
       "      <td>w</td>\n",
       "      <td>w</td>\n",
       "      <td>p</td>\n",
       "      <td>w</td>\n",
       "      <td>o</td>\n",
       "      <td>p</td>\n",
       "      <td>k</td>\n",
       "      <td>s</td>\n",
       "      <td>u</td>\n",
       "    </tr>\n",
       "    <tr>\n",
       "      <th>4</th>\n",
       "      <td>e</td>\n",
       "      <td>x</td>\n",
       "      <td>s</td>\n",
       "      <td>g</td>\n",
       "      <td>f</td>\n",
       "      <td>n</td>\n",
       "      <td>f</td>\n",
       "      <td>w</td>\n",
       "      <td>b</td>\n",
       "      <td>k</td>\n",
       "      <td>...</td>\n",
       "      <td>s</td>\n",
       "      <td>w</td>\n",
       "      <td>w</td>\n",
       "      <td>p</td>\n",
       "      <td>w</td>\n",
       "      <td>o</td>\n",
       "      <td>e</td>\n",
       "      <td>n</td>\n",
       "      <td>a</td>\n",
       "      <td>g</td>\n",
       "    </tr>\n",
       "  </tbody>\n",
       "</table>\n",
       "<p>5 rows × 23 columns</p>\n",
       "</div>"
      ],
      "text/plain": [
       "  class cap-shape cap-surface cap-color bruises odor gill-attachment  \\\n",
       "0     p         x           s         n       t    p               f   \n",
       "1     e         x           s         y       t    a               f   \n",
       "2     e         b           s         w       t    l               f   \n",
       "3     p         x           y         w       t    p               f   \n",
       "4     e         x           s         g       f    n               f   \n",
       "\n",
       "  gill-spacing gill-size gill-color  ... stalk-surface-below-ring  \\\n",
       "0            c         n          k  ...                        s   \n",
       "1            c         b          k  ...                        s   \n",
       "2            c         b          n  ...                        s   \n",
       "3            c         n          n  ...                        s   \n",
       "4            w         b          k  ...                        s   \n",
       "\n",
       "  stalk-color-above-ring stalk-color-below-ring veil-type veil-color  \\\n",
       "0                      w                      w         p          w   \n",
       "1                      w                      w         p          w   \n",
       "2                      w                      w         p          w   \n",
       "3                      w                      w         p          w   \n",
       "4                      w                      w         p          w   \n",
       "\n",
       "  ring-number ring-type spore-print-color population habitat  \n",
       "0           o         p                 k          s       u  \n",
       "1           o         p                 n          n       g  \n",
       "2           o         p                 n          n       m  \n",
       "3           o         p                 k          s       u  \n",
       "4           o         e                 n          a       g  \n",
       "\n",
       "[5 rows x 23 columns]"
      ]
     },
     "execution_count": 3,
     "metadata": {},
     "output_type": "execute_result"
    }
   ],
   "source": [
    "DataFrame.head()"
   ]
  },
  {
   "cell_type": "markdown",
   "id": "1fced9fb",
   "metadata": {},
   "source": [
    "### EDA"
   ]
  },
  {
   "cell_type": "code",
   "execution_count": 4,
   "id": "3007c488",
   "metadata": {},
   "outputs": [
    {
     "name": "stdout",
     "output_type": "stream",
     "text": [
      "<class 'pandas.core.frame.DataFrame'>\n",
      "RangeIndex: 8124 entries, 0 to 8123\n",
      "Data columns (total 23 columns):\n",
      " #   Column                    Non-Null Count  Dtype \n",
      "---  ------                    --------------  ----- \n",
      " 0   class                     8124 non-null   object\n",
      " 1   cap-shape                 8124 non-null   object\n",
      " 2   cap-surface               8124 non-null   object\n",
      " 3   cap-color                 8124 non-null   object\n",
      " 4   bruises                   8124 non-null   object\n",
      " 5   odor                      8124 non-null   object\n",
      " 6   gill-attachment           8124 non-null   object\n",
      " 7   gill-spacing              8124 non-null   object\n",
      " 8   gill-size                 8124 non-null   object\n",
      " 9   gill-color                8124 non-null   object\n",
      " 10  stalk-shape               8124 non-null   object\n",
      " 11  stalk-root                8124 non-null   object\n",
      " 12  stalk-surface-above-ring  8124 non-null   object\n",
      " 13  stalk-surface-below-ring  8124 non-null   object\n",
      " 14  stalk-color-above-ring    8124 non-null   object\n",
      " 15  stalk-color-below-ring    8124 non-null   object\n",
      " 16  veil-type                 8124 non-null   object\n",
      " 17  veil-color                8124 non-null   object\n",
      " 18  ring-number               8124 non-null   object\n",
      " 19  ring-type                 8124 non-null   object\n",
      " 20  spore-print-color         8124 non-null   object\n",
      " 21  population                8124 non-null   object\n",
      " 22  habitat                   8124 non-null   object\n",
      "dtypes: object(23)\n",
      "memory usage: 1.4+ MB\n"
     ]
    }
   ],
   "source": [
    "DataFrame.info()"
   ]
  },
  {
   "cell_type": "code",
   "execution_count": 5,
   "id": "e97b70b8",
   "metadata": {},
   "outputs": [],
   "source": [
    "Column=DataFrame.columns"
   ]
  },
  {
   "cell_type": "code",
   "execution_count": 6,
   "id": "467f4c22",
   "metadata": {},
   "outputs": [
    {
     "data": {
      "text/plain": [
       "class                        2\n",
       "cap-shape                    6\n",
       "cap-surface                  4\n",
       "cap-color                   10\n",
       "bruises                      2\n",
       "odor                         9\n",
       "gill-attachment              2\n",
       "gill-spacing                 2\n",
       "gill-size                    2\n",
       "gill-color                  12\n",
       "stalk-shape                  2\n",
       "stalk-root                   5\n",
       "stalk-surface-above-ring     4\n",
       "stalk-surface-below-ring     4\n",
       "stalk-color-above-ring       9\n",
       "stalk-color-below-ring       9\n",
       "veil-type                    1\n",
       "veil-color                   4\n",
       "ring-number                  3\n",
       "ring-type                    5\n",
       "spore-print-color            9\n",
       "population                   6\n",
       "habitat                      7\n",
       "dtype: int64"
      ]
     },
     "execution_count": 6,
     "metadata": {},
     "output_type": "execute_result"
    }
   ],
   "source": [
    "DataFrame.nunique()"
   ]
  },
  {
   "cell_type": "code",
   "execution_count": 7,
   "id": "1846d78c",
   "metadata": {},
   "outputs": [
    {
     "data": {
      "text/plain": [
       "'class'"
      ]
     },
     "execution_count": 7,
     "metadata": {},
     "output_type": "execute_result"
    }
   ],
   "source": [
    "len(Column)\n",
    "Column[0]"
   ]
  },
  {
   "cell_type": "code",
   "execution_count": 8,
   "id": "54ac4cdd",
   "metadata": {},
   "outputs": [
    {
     "name": "stderr",
     "output_type": "stream",
     "text": [
      "c:\\Users\\Keerththanan\\MYPROGRAM\\Annaconda\\lib\\site-packages\\seaborn\\_decorators.py:36: FutureWarning: Pass the following variable as a keyword arg: x. From version 0.12, the only valid positional argument will be `data`, and passing other arguments without an explicit keyword will result in an error or misinterpretation.\n",
      "  warnings.warn(\n"
     ]
    },
    {
     "data": {
      "image/png": "[encoded data removed]",
      "text/plain": [
       "<Figure size 432x288 with 1 Axes>"
      ]
     },
     "metadata": {
      "needs_background": "light"
     },
     "output_type": "display_data"
    }
   ],
   "source": [
    "sns.countplot(DataFrame['class'])\n",
    "plt.show()"
   ]
  },
  {
   "cell_type": "markdown",
   "id": "a7bfc060",
   "metadata": {},
   "source": [
    "        conclusion- approximately target variable has balance data"
   ]
  },
  {
   "cell_type": "markdown",
   "id": "98482fa4",
   "metadata": {},
   "source": [
    "### Feature Selection  (Chi-Square Test of Independence)"
   ]
  },
  {
   "cell_type": "code",
   "execution_count": 9,
   "id": "5f23dc24",
   "metadata": {},
   "outputs": [],
   "source": [
    "import scipy"
   ]
  },
  {
   "cell_type": "code",
   "execution_count": 10,
   "id": "c78c1f78",
   "metadata": {},
   "outputs": [],
   "source": [
    "def chiTest(col):\n",
    "    H0=f\"There is no relationship between class and {col} variable\"\n",
    "    H1=f\"There is a relationship between class and {col} variable\"\n",
    "    alpha=0.05\n",
    "    table=pd.crosstab(DataFrame[col],DataFrame['class'],rownames=[col],colnames=['class'])\n",
    "    test_statistic,p_value,dof,expectedValue=scipy.stats.chi2_contingency(table)\n",
    "    print(\"\\n\")\n",
    "    if p_value<alpha:\n",
    "        print(\"There is a enough evidence to reject null hypothesis\")\n",
    "        print(H1)\n",
    "    else:\n",
    "        print(\"There is no enough evidence to reject null hypothesis\")\n",
    "        print(H0)\n",
    "    return p_value\n",
    "        "
   ]
  },
  {
   "cell_type": "code",
   "execution_count": 11,
   "id": "e4370564",
   "metadata": {},
   "outputs": [
    {
     "name": "stdout",
     "output_type": "stream",
     "text": [
      "\n",
      "\n",
      "There is a enough evidence to reject null hypothesis\n",
      "There is a relationship between class and class variable\n",
      "\n",
      "\n",
      "There is a enough evidence to reject null hypothesis\n",
      "There is a relationship between class and cap-shape variable\n",
      "\n",
      "\n",
      "There is a enough evidence to reject null hypothesis\n",
      "There is a relationship between class and cap-surface variable\n",
      "\n",
      "\n",
      "There is a enough evidence to reject null hypothesis\n",
      "There is a relationship between class and cap-color variable\n",
      "\n",
      "\n",
      "There is a enough evidence to reject null hypothesis\n",
      "There is a relationship between class and bruises variable\n",
      "\n",
      "\n",
      "There is a enough evidence to reject null hypothesis\n",
      "There is a relationship between class and odor variable\n",
      "\n",
      "\n",
      "There is a enough evidence to reject null hypothesis\n",
      "There is a relationship between class and gill-attachment variable\n",
      "\n",
      "\n",
      "There is a enough evidence to reject null hypothesis\n",
      "There is a relationship between class and gill-spacing variable\n",
      "\n",
      "\n",
      "There is a enough evidence to reject null hypothesis\n",
      "There is a relationship between class and gill-size variable\n",
      "\n",
      "\n",
      "There is a enough evidence to reject null hypothesis\n",
      "There is a relationship between class and gill-color variable\n",
      "\n",
      "\n",
      "There is a enough evidence to reject null hypothesis\n",
      "There is a relationship between class and stalk-shape variable\n",
      "\n",
      "\n",
      "There is a enough evidence to reject null hypothesis\n",
      "There is a relationship between class and stalk-root variable\n",
      "\n",
      "\n",
      "There is a enough evidence to reject null hypothesis\n",
      "There is a relationship between class and stalk-surface-above-ring variable\n",
      "\n",
      "\n",
      "There is a enough evidence to reject null hypothesis\n",
      "There is a relationship between class and stalk-surface-below-ring variable\n",
      "\n",
      "\n",
      "There is a enough evidence to reject null hypothesis\n",
      "There is a relationship between class and stalk-color-above-ring variable\n",
      "\n",
      "\n",
      "There is a enough evidence to reject null hypothesis\n",
      "There is a relationship between class and stalk-color-below-ring variable\n",
      "\n",
      "\n",
      "There is no enough evidence to reject null hypothesis\n",
      "There is no relationship between class and veil-type variable\n",
      "\n",
      "\n",
      "There is a enough evidence to reject null hypothesis\n",
      "There is a relationship between class and veil-color variable\n",
      "\n",
      "\n",
      "There is a enough evidence to reject null hypothesis\n",
      "There is a relationship between class and ring-number variable\n",
      "\n",
      "\n",
      "There is a enough evidence to reject null hypothesis\n",
      "There is a relationship between class and ring-type variable\n",
      "\n",
      "\n",
      "There is a enough evidence to reject null hypothesis\n",
      "There is a relationship between class and spore-print-color variable\n",
      "\n",
      "\n",
      "There is a enough evidence to reject null hypothesis\n",
      "There is a relationship between class and population variable\n",
      "\n",
      "\n",
      "There is a enough evidence to reject null hypothesis\n",
      "There is a relationship between class and habitat variable\n"
     ]
    }
   ],
   "source": [
    "selectedCol = [c for c in Column if float(chiTest(c))<0.05]"
   ]
  },
  {
   "cell_type": "code",
   "execution_count": 12,
   "id": "d3bd1434",
   "metadata": {},
   "outputs": [
    {
     "data": {
      "text/plain": [
       "22"
      ]
     },
     "execution_count": 12,
     "metadata": {},
     "output_type": "execute_result"
    }
   ],
   "source": [
    "len(selectedCol)"
   ]
  },
  {
   "cell_type": "code",
   "execution_count": 13,
   "id": "7fd0c485",
   "metadata": {},
   "outputs": [
    {
     "data": {
      "text/plain": [
       "{'veil-type'}"
      ]
     },
     "execution_count": 13,
     "metadata": {},
     "output_type": "execute_result"
    }
   ],
   "source": [
    "set(Column)-set(selectedCol)"
   ]
  },
  {
   "cell_type": "code",
   "execution_count": 14,
   "id": "f2b82047",
   "metadata": {},
   "outputs": [],
   "source": [
    "selectedCol.remove('class')"
   ]
  },
  {
   "cell_type": "code",
   "execution_count": 16,
   "id": "29ad0c42",
   "metadata": {},
   "outputs": [
    {
     "data": {
      "text/plain": [
       "['cap-shape',\n",
       " 'cap-surface',\n",
       " 'cap-color',\n",
       " 'bruises',\n",
       " 'odor',\n",
       " 'gill-attachment',\n",
       " 'gill-spacing',\n",
       " 'gill-size',\n",
       " 'gill-color',\n",
       " 'stalk-shape',\n",
       " 'stalk-root',\n",
       " 'stalk-surface-above-ring',\n",
       " 'stalk-surface-below-ring',\n",
       " 'stalk-color-above-ring',\n",
       " 'stalk-color-below-ring',\n",
       " 'veil-color',\n",
       " 'ring-number',\n",
       " 'ring-type',\n",
       " 'spore-print-color',\n",
       " 'population',\n",
       " 'habitat']"
      ]
     },
     "execution_count": 16,
     "metadata": {},
     "output_type": "execute_result"
    }
   ],
   "source": [
    "selectedCol"
   ]
  },
  {
   "cell_type": "markdown",
   "id": "30a428ec",
   "metadata": {},
   "source": [
    "               Save selected column for ml deployment"
   ]
  },
  {
   "cell_type": "code",
   "execution_count": 16,
   "id": "5b1f371b",
   "metadata": {},
   "outputs": [],
   "source": [
    "pick.dump(selectedCol,open('needColumn.pkl', 'wb'))"
   ]
  },
  {
   "cell_type": "code",
   "execution_count": 17,
   "id": "f7a8a113",
   "metadata": {},
   "outputs": [],
   "source": [
    "X=DataFrame.drop(columns=['class','veil-type'],axis=1)\n",
    "Y=DataFrame[['class']]"
   ]
  },
  {
   "cell_type": "code",
   "execution_count": 18,
   "id": "9d808b6f",
   "metadata": {},
   "outputs": [
    {
     "data": {
      "text/html": [
       "<div>\n",
       "<style scoped>\n",
       "    .dataframe tbody tr th:only-of-type {\n",
       "        vertical-align: middle;\n",
       "    }\n",
       "\n",
       "    .dataframe tbody tr th {\n",
       "        vertical-align: top;\n",
       "    }\n",
       "\n",
       "    .dataframe thead th {\n",
       "        text-align: right;\n",
       "    }\n",
       "</style>\n",
       "<table border=\"1\" class=\"dataframe\">\n",
       "  <thead>\n",
       "    <tr style=\"text-align: right;\">\n",
       "      <th></th>\n",
       "      <th>cap-shape</th>\n",
       "      <th>cap-surface</th>\n",
       "      <th>cap-color</th>\n",
       "      <th>bruises</th>\n",
       "      <th>odor</th>\n",
       "      <th>gill-attachment</th>\n",
       "      <th>gill-spacing</th>\n",
       "      <th>gill-size</th>\n",
       "      <th>gill-color</th>\n",
       "      <th>stalk-shape</th>\n",
       "      <th>...</th>\n",
       "      <th>stalk-surface-above-ring</th>\n",
       "      <th>stalk-surface-below-ring</th>\n",
       "      <th>stalk-color-above-ring</th>\n",
       "      <th>stalk-color-below-ring</th>\n",
       "      <th>veil-color</th>\n",
       "      <th>ring-number</th>\n",
       "      <th>ring-type</th>\n",
       "      <th>spore-print-color</th>\n",
       "      <th>population</th>\n",
       "      <th>habitat</th>\n",
       "    </tr>\n",
       "  </thead>\n",
       "  <tbody>\n",
       "    <tr>\n",
       "      <th>0</th>\n",
       "      <td>x</td>\n",
       "      <td>s</td>\n",
       "      <td>n</td>\n",
       "      <td>t</td>\n",
       "      <td>p</td>\n",
       "      <td>f</td>\n",
       "      <td>c</td>\n",
       "      <td>n</td>\n",
       "      <td>k</td>\n",
       "      <td>e</td>\n",
       "      <td>...</td>\n",
       "      <td>s</td>\n",
       "      <td>s</td>\n",
       "      <td>w</td>\n",
       "      <td>w</td>\n",
       "      <td>w</td>\n",
       "      <td>o</td>\n",
       "      <td>p</td>\n",
       "      <td>k</td>\n",
       "      <td>s</td>\n",
       "      <td>u</td>\n",
       "    </tr>\n",
       "    <tr>\n",
       "      <th>1</th>\n",
       "      <td>x</td>\n",
       "      <td>s</td>\n",
       "      <td>y</td>\n",
       "      <td>t</td>\n",
       "      <td>a</td>\n",
       "      <td>f</td>\n",
       "      <td>c</td>\n",
       "      <td>b</td>\n",
       "      <td>k</td>\n",
       "      <td>e</td>\n",
       "      <td>...</td>\n",
       "      <td>s</td>\n",
       "      <td>s</td>\n",
       "      <td>w</td>\n",
       "      <td>w</td>\n",
       "      <td>w</td>\n",
       "      <td>o</td>\n",
       "      <td>p</td>\n",
       "      <td>n</td>\n",
       "      <td>n</td>\n",
       "      <td>g</td>\n",
       "    </tr>\n",
       "    <tr>\n",
       "      <th>2</th>\n",
       "      <td>b</td>\n",
       "      <td>s</td>\n",
       "      <td>w</td>\n",
       "      <td>t</td>\n",
       "      <td>l</td>\n",
       "      <td>f</td>\n",
       "      <td>c</td>\n",
       "      <td>b</td>\n",
       "      <td>n</td>\n",
       "      <td>e</td>\n",
       "      <td>...</td>\n",
       "      <td>s</td>\n",
       "      <td>s</td>\n",
       "      <td>w</td>\n",
       "      <td>w</td>\n",
       "      <td>w</td>\n",
       "      <td>o</td>\n",
       "      <td>p</td>\n",
       "      <td>n</td>\n",
       "      <td>n</td>\n",
       "      <td>m</td>\n",
       "    </tr>\n",
       "    <tr>\n",
       "      <th>3</th>\n",
       "      <td>x</td>\n",
       "      <td>y</td>\n",
       "      <td>w</td>\n",
       "      <td>t</td>\n",
       "      <td>p</td>\n",
       "      <td>f</td>\n",
       "      <td>c</td>\n",
       "      <td>n</td>\n",
       "      <td>n</td>\n",
       "      <td>e</td>\n",
       "      <td>...</td>\n",
       "      <td>s</td>\n",
       "      <td>s</td>\n",
       "      <td>w</td>\n",
       "      <td>w</td>\n",
       "      <td>w</td>\n",
       "      <td>o</td>\n",
       "      <td>p</td>\n",
       "      <td>k</td>\n",
       "      <td>s</td>\n",
       "      <td>u</td>\n",
       "    </tr>\n",
       "    <tr>\n",
       "      <th>4</th>\n",
       "      <td>x</td>\n",
       "      <td>s</td>\n",
       "      <td>g</td>\n",
       "      <td>f</td>\n",
       "      <td>n</td>\n",
       "      <td>f</td>\n",
       "      <td>w</td>\n",
       "      <td>b</td>\n",
       "      <td>k</td>\n",
       "      <td>t</td>\n",
       "      <td>...</td>\n",
       "      <td>s</td>\n",
       "      <td>s</td>\n",
       "      <td>w</td>\n",
       "      <td>w</td>\n",
       "      <td>w</td>\n",
       "      <td>o</td>\n",
       "      <td>e</td>\n",
       "      <td>n</td>\n",
       "      <td>a</td>\n",
       "      <td>g</td>\n",
       "    </tr>\n",
       "  </tbody>\n",
       "</table>\n",
       "<p>5 rows × 21 columns</p>\n",
       "</div>"
      ],
      "text/plain": [
       "  cap-shape cap-surface cap-color bruises odor gill-attachment gill-spacing  \\\n",
       "0         x           s         n       t    p               f            c   \n",
       "1         x           s         y       t    a               f            c   \n",
       "2         b           s         w       t    l               f            c   \n",
       "3         x           y         w       t    p               f            c   \n",
       "4         x           s         g       f    n               f            w   \n",
       "\n",
       "  gill-size gill-color stalk-shape  ... stalk-surface-above-ring  \\\n",
       "0         n          k           e  ...                        s   \n",
       "1         b          k           e  ...                        s   \n",
       "2         b          n           e  ...                        s   \n",
       "3         n          n           e  ...                        s   \n",
       "4         b          k           t  ...                        s   \n",
       "\n",
       "  stalk-surface-below-ring stalk-color-above-ring stalk-color-below-ring  \\\n",
       "0                        s                      w                      w   \n",
       "1                        s                      w                      w   \n",
       "2                        s                      w                      w   \n",
       "3                        s                      w                      w   \n",
       "4                        s                      w                      w   \n",
       "\n",
       "  veil-color ring-number ring-type spore-print-color population habitat  \n",
       "0          w           o         p                 k          s       u  \n",
       "1          w           o         p                 n          n       g  \n",
       "2          w           o         p                 n          n       m  \n",
       "3          w           o         p                 k          s       u  \n",
       "4          w           o         e                 n          a       g  \n",
       "\n",
       "[5 rows x 21 columns]"
      ]
     },
     "execution_count": 18,
     "metadata": {},
     "output_type": "execute_result"
    }
   ],
   "source": [
    "X.head()"
   ]
  },
  {
   "cell_type": "markdown",
   "id": "0d3d1146",
   "metadata": {},
   "source": [
    "#### Splitting Data"
   ]
  },
  {
   "cell_type": "code",
   "execution_count": 19,
   "id": "98817537",
   "metadata": {},
   "outputs": [],
   "source": [
    "from sklearn.model_selection import train_test_split\n",
    "X_train,X_test,Y_train,Y_test=train_test_split(X,Y,random_state=42,test_size=0.25)"
   ]
  },
  {
   "cell_type": "code",
   "execution_count": 20,
   "id": "dd3b4a70",
   "metadata": {},
   "outputs": [
    {
     "data": {
      "text/plain": [
       "(6093, 21)"
      ]
     },
     "execution_count": 20,
     "metadata": {},
     "output_type": "execute_result"
    }
   ],
   "source": [
    "X_train.shape"
   ]
  },
  {
   "cell_type": "markdown",
   "id": "c625f063",
   "metadata": {},
   "source": [
    "### Encoding"
   ]
  },
  {
   "cell_type": "code",
   "execution_count": 24,
   "id": "ef18d009",
   "metadata": {},
   "outputs": [],
   "source": [
    "from sklearn.compose import ColumnTransformer\n",
    "from sklearn.preprocessing import OneHotEncoder\n",
    "from sklearn.pipeline import Pipeline"
   ]
  },
  {
   "cell_type": "code",
   "execution_count": null,
   "id": "823e90bf",
   "metadata": {},
   "outputs": [],
   "source": [
    "# when i use only Column transformer , i got some error in deployment that is why i built pipeline"
   ]
  },
  {
   "cell_type": "code",
   "execution_count": 119,
   "id": "facd4e43",
   "metadata": {},
   "outputs": [],
   "source": [
    "clt=ColumnTransformer(transformers=[\n",
    "    ('encode',OneHotEncoder(handle_unknown='ignore'),selectedCol)\n",
    "])"
   ]
  },
  {
   "cell_type": "code",
   "execution_count": 120,
   "id": "ac34772a",
   "metadata": {},
   "outputs": [
    {
     "data": {
      "text/plain": [
       "ColumnTransformer(transformers=[('encode',\n",
       "                                 OneHotEncoder(handle_unknown='ignore'),\n",
       "                                 ['cap-shape', 'cap-surface', 'cap-color',\n",
       "                                  'bruises', 'odor', 'gill-attachment',\n",
       "                                  'gill-spacing', 'gill-size', 'gill-color',\n",
       "                                  'stalk-shape', 'stalk-root',\n",
       "                                  'stalk-surface-above-ring',\n",
       "                                  'stalk-surface-below-ring',\n",
       "                                  'stalk-color-above-ring',\n",
       "                                  'stalk-color-below-ring', 'veil-color',\n",
       "                                  'ring-number', 'ring-type',\n",
       "                                  'spore-print-color', 'population',\n",
       "                                  'habitat'])])"
      ]
     },
     "execution_count": 120,
     "metadata": {},
     "output_type": "execute_result"
    }
   ],
   "source": [
    "clt.fit(X_train)"
   ]
  },
  {
   "cell_type": "markdown",
   "id": "7a402eb2",
   "metadata": {},
   "source": [
    "                 Save column transformer for ml deployment"
   ]
  },
  {
   "cell_type": "code",
   "execution_count": 121,
   "id": "bb983444",
   "metadata": {},
   "outputs": [],
   "source": [
    "X_train_en=clt.transform(X_train)"
   ]
  },
  {
   "cell_type": "code",
   "execution_count": 122,
   "id": "ede6abdc",
   "metadata": {},
   "outputs": [
    {
     "data": {
      "text/plain": [
       "(6093, 116)"
      ]
     },
     "execution_count": 122,
     "metadata": {},
     "output_type": "execute_result"
    }
   ],
   "source": [
    "X_train_en.shape"
   ]
  },
  {
   "cell_type": "code",
   "execution_count": 123,
   "id": "9a0e64f5",
   "metadata": {},
   "outputs": [],
   "source": [
    "X_test_en=clt.transform(X_test)"
   ]
  },
  {
   "cell_type": "code",
   "execution_count": null,
   "id": "69e5a0b5",
   "metadata": {},
   "outputs": [],
   "source": [
    "from sklearn.preprocessing import LabelEncoder\n",
    "lbe=LabelEncoder()\n",
    "Y_train_en=lbe.fit_transform(Y_train)\n",
    "Y_test_en=lbe.transform(Y_test)"
   ]
  },
  {
   "cell_type": "code",
   "execution_count": 125,
   "id": "7823c530",
   "metadata": {},
   "outputs": [
    {
     "data": {
      "text/plain": [
       "(1625,)"
      ]
     },
     "execution_count": 125,
     "metadata": {},
     "output_type": "execute_result"
    }
   ],
   "source": [
    "Y_train_en[:1625].shape"
   ]
  },
  {
   "cell_type": "code",
   "execution_count": 126,
   "id": "4cc7b5df",
   "metadata": {},
   "outputs": [
    {
     "data": {
      "text/plain": [
       "(2031,)"
      ]
     },
     "execution_count": 126,
     "metadata": {},
     "output_type": "execute_result"
    }
   ],
   "source": [
    "Y_test_en.shape"
   ]
  },
  {
   "cell_type": "markdown",
   "id": "0ca3afb1",
   "metadata": {},
   "source": [
    "### Model Training and parameter tuning"
   ]
  },
  {
   "cell_type": "code",
   "execution_count": 26,
   "id": "f15a30f6",
   "metadata": {},
   "outputs": [],
   "source": [
    "from sklearn.ensemble import RandomForestClassifier\n",
    "from sklearn.svm import SVC\n",
    "from sklearn.linear_model import LogisticRegression\n",
    "from xgboost import XGBClassifier\n",
    "from sklearn.metrics import accuracy_score\n",
    "from sklearn.model_selection import cross_val_score\n",
    "from sklearn.model_selection import GridSearchCV"
   ]
  },
  {
   "cell_type": "code",
   "execution_count": 128,
   "id": "b08e173e",
   "metadata": {},
   "outputs": [],
   "source": [
    "testingModel={'svc':SVC(kernel='linear'),'randomforest':RandomForestClassifier(),'xgb_boost':XGBClassifier(),'logistic':LogisticRegression()}"
   ]
  },
  {
   "cell_type": "code",
   "execution_count": 129,
   "id": "8a7c115b",
   "metadata": {},
   "outputs": [
    {
     "name": "stdout",
     "output_type": "stream",
     "text": [
      "i am ---- svc\n",
      "-----mean of score 1.0\n",
      "-----std of score 0.0 \n",
      "\n",
      "\n",
      "i am ---- randomforest\n",
      "-----mean of score 1.0\n",
      "-----std of score 0.0 \n",
      "\n",
      "\n",
      "i am ---- xgb_boost\n",
      "-----mean of score 1.0\n",
      "-----std of score 0.0 \n",
      "\n",
      "\n",
      "i am ---- logistic\n",
      "-----mean of score 0.9998357963875206\n",
      "-----std of score 0.0004926108374384231 \n",
      "\n",
      "\n"
     ]
    }
   ],
   "source": [
    "for name,model in testingModel.items():\n",
    "    print(\"i am ----\",name)\n",
    "    score=cross_val_score(model,X_train_en,Y_train_en,cv=10)\n",
    "    print(f\"-----mean of score {score.mean()}\\n-----std of score {score.std()} \")\n",
    "    print(\"\\n\")"
   ]
  },
  {
   "cell_type": "markdown",
   "id": "2b1a7b4b",
   "metadata": {},
   "source": [
    "    conclusion - got 100% accuracy so no need to do parameter tuning\n",
    "    (is this possible) i did not allow to data leakage "
   ]
  },
  {
   "cell_type": "code",
   "execution_count": 130,
   "id": "5598aee4",
   "metadata": {},
   "outputs": [],
   "source": [
    "class ModelCreation:\n",
    "    \n",
    "    def __init__(self,model):\n",
    "        self.__X_Train=X_train_en\n",
    "        self.__X_Test=X_test_en\n",
    "        self.__Y_Train=Y_train_en\n",
    "        self.__Y_Test=Y_test_en\n",
    "        self.__currentModel=model\n",
    "    def crossVal(self,cvv=7):\n",
    "        score=cross_val_score(self.__currentModel,self.__X_Train,self.__Y_Train,cv=cvv)\n",
    "        print(\"score is := \",score)\n",
    "        print(\"mean of score is := \",score.mean())\n",
    "        print(\"std of score is := \",score.std())\n",
    "    def fit(self):\n",
    "        self.__currentModel.fit(self.__X_Train,self.__Y_Train)\n",
    "    def checkAccuracy(self):\n",
    "        score=accuracy_score(self.__Y_Test,self.__currentModel.predict(self.__X_Test))\n",
    "        print(\"\\n Accuracy score is :- \",score)\n",
    "    \n",
    "    def predictOneRecord(self,record):\n",
    "        cls=self.__currentModel.predict(record.reshape(1,-1))\n",
    "        if cls==0:\n",
    "            print(\"it is not poison\")\n",
    "        else:\n",
    "            print(\"it is  poison\")\n",
    "    def predictClass(self,array):\n",
    "        return self.__currentModel.predict(array)\n",
    "        \n",
    "        \n",
    "    "
   ]
  },
  {
   "cell_type": "code",
   "execution_count": 131,
   "id": "dddf7948",
   "metadata": {},
   "outputs": [],
   "source": [
    "RandForestModel=ModelCreation(RandomForestClassifier())"
   ]
  },
  {
   "cell_type": "code",
   "execution_count": 132,
   "id": "c3d4ebb7",
   "metadata": {},
   "outputs": [
    {
     "name": "stdout",
     "output_type": "stream",
     "text": [
      "score is :=  [1. 1. 1. 1. 1.]\n",
      "mean of score is :=  1.0\n",
      "std of score is :=  0.0\n",
      "\n",
      " Accuracy score is :-  1.0\n"
     ]
    }
   ],
   "source": [
    "RandForestModel.fit()\n",
    "RandForestModel.crossVal(cvv=5)\n",
    "RandForestModel.checkAccuracy()"
   ]
  },
  {
   "cell_type": "code",
   "execution_count": 133,
   "id": "971abd4e",
   "metadata": {},
   "outputs": [
    {
     "name": "stdout",
     "output_type": "stream",
     "text": [
      "it is not poison\n"
     ]
    }
   ],
   "source": [
    "RandForestModel.predictOneRecord(X_test_en[0].toarray().flatten())"
   ]
  },
  {
   "cell_type": "markdown",
   "id": "4cc760fc",
   "metadata": {},
   "source": [
    "            save model"
   ]
  },
  {
   "cell_type": "code",
   "execution_count": 27,
   "id": "0259fe3d",
   "metadata": {},
   "outputs": [],
   "source": [
    "model=RandomForestClassifier()"
   ]
  },
  {
   "cell_type": "code",
   "execution_count": 28,
   "id": "36a8d62b",
   "metadata": {},
   "outputs": [],
   "source": [
    "pipe=Pipeline([\n",
    "    ('encode',OneHotEncoder(handle_unknown='ignore')),\n",
    "    ('model',model)\n",
    "])"
   ]
  },
  {
   "cell_type": "code",
   "execution_count": 29,
   "id": "e362233d",
   "metadata": {},
   "outputs": [
    {
     "name": "stderr",
     "output_type": "stream",
     "text": [
      "c:\\Users\\Keerththanan\\MYPROGRAM\\Annaconda\\lib\\site-packages\\sklearn\\pipeline.py:394: DataConversionWarning: A column-vector y was passed when a 1d array was expected. Please change the shape of y to (n_samples,), for example using ravel().\n",
      "  self._final_estimator.fit(Xt, y, **fit_params_last_step)\n"
     ]
    },
    {
     "data": {
      "text/plain": [
       "Pipeline(steps=[('encode', OneHotEncoder(handle_unknown='ignore')),\n",
       "                ('model', RandomForestClassifier())])"
      ]
     },
     "execution_count": 29,
     "metadata": {},
     "output_type": "execute_result"
    }
   ],
   "source": [
    "pipe.fit(X_train,Y_train)"
   ]
  },
  {
   "cell_type": "code",
   "execution_count": 137,
   "id": "7c9f5539",
   "metadata": {},
   "outputs": [],
   "source": [
    "pick.dump(pipe,open('pipeline.pkl', 'wb'))"
   ]
  },
  {
   "cell_type": "code",
   "execution_count": 138,
   "id": "6124ff40",
   "metadata": {},
   "outputs": [
    {
     "data": {
      "text/plain": [
       "array([['f', 'f', 'n', 'f', 'n', 'f', 'w', 'b', 'h', 't', 'e', 's', 'f',\n",
       "        'w', 'w', 'w', 'o', 'e', 'n', 's', 'g']], dtype=object)"
      ]
     },
     "execution_count": 138,
     "metadata": {},
     "output_type": "execute_result"
    }
   ],
   "source": [
    "X_test.values[0].reshape(1,-1)"
   ]
  },
  {
   "cell_type": "code",
   "execution_count": 139,
   "id": "3816f406",
   "metadata": {},
   "outputs": [
    {
     "name": "stderr",
     "output_type": "stream",
     "text": [
      "C:\\Users\\Keerththanan\\MYPROGRAM\\Annaconda\\lib\\site-packages\\sklearn\\base.py:450: UserWarning: X does not have valid feature names, but OneHotEncoder was fitted with feature names\n",
      "  warnings.warn(\n"
     ]
    },
    {
     "data": {
      "text/plain": [
       "array(['e'], dtype=object)"
      ]
     },
     "execution_count": 139,
     "metadata": {},
     "output_type": "execute_result"
    }
   ],
   "source": [
    "pipe.predict(X_test.values[0].reshape(1,-1))"
   ]
  },
  {
   "cell_type": "code",
   "execution_count": 30,
   "id": "a6e25ec6",
   "metadata": {},
   "outputs": [],
   "source": [
    "### Confusion matrix\n",
    "from sklearn.metrics import confusion_matrix"
   ]
  },
  {
   "cell_type": "code",
   "execution_count": 34,
   "id": "fe7b03a3",
   "metadata": {},
   "outputs": [],
   "source": [
    "ConfusionMatrix=confusion_matrix(Y_test,pipe.predict(X_test))"
   ]
  },
  {
   "cell_type": "code",
   "execution_count": 35,
   "id": "c1c3ef70",
   "metadata": {},
   "outputs": [
    {
     "data": {
      "text/plain": [
       "array([[1040,    0],\n",
       "       [   0,  991]], dtype=int64)"
      ]
     },
     "execution_count": 35,
     "metadata": {},
     "output_type": "execute_result"
    }
   ],
   "source": [
    "ConfusionMatrix"
   ]
  },
  {
   "cell_type": "code",
   "execution_count": null,
   "id": "f340482b",
   "metadata": {},
   "outputs": [],
   "source": []
  }
 ],
 "metadata": {
  "kernelspec": {
   "display_name": "Python 3.9.12 ('base')",
   "language": "python",
   "name": "python3"
  },
  "language_info": {
   "codemirror_mode": {
    "name": "ipython",
    "version": 3
   },
   "file_extension": ".py",
   "mimetype": "text/x-python",
   "name": "python",
   "nbconvert_exporter": "python",
   "pygments_lexer": "ipython3",
   "version": "3.9.12"
  },
  "vscode": {
   "interpreter": {
    "hash": "eb0f25ee1a6e500ba6fd0e329d77e59246db00761c8f0ccaff6a57cae72d32d9"
   }
  }
 },
 "nbformat": 4,
 "nbformat_minor": 5
}
